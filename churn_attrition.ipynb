{
 "cells": [
  {
   "cell_type": "markdown",
   "metadata": {},
   "source": [
    "### Import Libraries"
   ]
  },
  {
   "cell_type": "code",
   "execution_count": 1,
   "metadata": {},
   "outputs": [],
   "source": [
    "import pandas as pd\n",
    "import seaborn as sns\n",
    "import matplotlib.pyplot as plt\n",
    "from category_encoders import BinaryEncoder\n",
    "from sklearn.impute import SimpleImputer\n",
    "from imblearn.over_sampling import SMOTE\n",
    "from sklearn.model_selection import train_test_split\n",
    "from sklearn.tree import DecisionTreeClassifier, export_graphviz\n",
    "import graphviz\n",
    "from joblib import dump, load\n",
    "from sklearn.metrics import accuracy_score, precision_score"
   ]
  },
  {
   "cell_type": "code",
   "execution_count": 2,
   "metadata": {},
   "outputs": [
    {
     "data": {
      "application/vnd.microsoft.datawrangler.viewer.v0+json": {
       "columns": [
        {
         "name": "index",
         "rawType": "int64",
         "type": "integer"
        },
        {
         "name": "Age",
         "rawType": "int64",
         "type": "integer"
        },
        {
         "name": "Gender",
         "rawType": "object",
         "type": "string"
        },
        {
         "name": "Tenure",
         "rawType": "int64",
         "type": "integer"
        },
        {
         "name": "Usage Frequency",
         "rawType": "int64",
         "type": "integer"
        },
        {
         "name": "Support Calls",
         "rawType": "int64",
         "type": "integer"
        },
        {
         "name": "Payment Delay",
         "rawType": "int64",
         "type": "integer"
        },
        {
         "name": "Subscription Type",
         "rawType": "object",
         "type": "string"
        },
        {
         "name": "Contract Length",
         "rawType": "object",
         "type": "string"
        },
        {
         "name": "Total Spend",
         "rawType": "int64",
         "type": "integer"
        },
        {
         "name": "Last Interaction",
         "rawType": "int64",
         "type": "integer"
        },
        {
         "name": "Churn",
         "rawType": "int64",
         "type": "integer"
        }
       ],
       "conversionMethod": "pd.DataFrame",
       "ref": "e18eb736-a3b0-4f23-a8e8-1c00bcee8614",
       "rows": [
        [
         "0",
         "22",
         "Female",
         "25",
         "14",
         "4",
         "27",
         "Basic",
         "Monthly",
         "598",
         "9",
         "1"
        ],
        [
         "1",
         "41",
         "Female",
         "28",
         "28",
         "7",
         "13",
         "Standard",
         "Monthly",
         "584",
         "20",
         "0"
        ],
        [
         "2",
         "47",
         "Male",
         "27",
         "10",
         "2",
         "29",
         "Premium",
         "Annual",
         "757",
         "21",
         "0"
        ],
        [
         "3",
         "35",
         "Male",
         "9",
         "12",
         "5",
         "17",
         "Premium",
         "Quarterly",
         "232",
         "18",
         "0"
        ],
        [
         "4",
         "53",
         "Female",
         "58",
         "24",
         "9",
         "2",
         "Standard",
         "Annual",
         "533",
         "18",
         "0"
        ]
       ],
       "shape": {
        "columns": 11,
        "rows": 5
       }
      },
      "text/html": [
       "<div>\n",
       "<style scoped>\n",
       "    .dataframe tbody tr th:only-of-type {\n",
       "        vertical-align: middle;\n",
       "    }\n",
       "\n",
       "    .dataframe tbody tr th {\n",
       "        vertical-align: top;\n",
       "    }\n",
       "\n",
       "    .dataframe thead th {\n",
       "        text-align: right;\n",
       "    }\n",
       "</style>\n",
       "<table border=\"1\" class=\"dataframe\">\n",
       "  <thead>\n",
       "    <tr style=\"text-align: right;\">\n",
       "      <th></th>\n",
       "      <th>Age</th>\n",
       "      <th>Gender</th>\n",
       "      <th>Tenure</th>\n",
       "      <th>Usage Frequency</th>\n",
       "      <th>Support Calls</th>\n",
       "      <th>Payment Delay</th>\n",
       "      <th>Subscription Type</th>\n",
       "      <th>Contract Length</th>\n",
       "      <th>Total Spend</th>\n",
       "      <th>Last Interaction</th>\n",
       "      <th>Churn</th>\n",
       "    </tr>\n",
       "  </thead>\n",
       "  <tbody>\n",
       "    <tr>\n",
       "      <th>0</th>\n",
       "      <td>22</td>\n",
       "      <td>Female</td>\n",
       "      <td>25</td>\n",
       "      <td>14</td>\n",
       "      <td>4</td>\n",
       "      <td>27</td>\n",
       "      <td>Basic</td>\n",
       "      <td>Monthly</td>\n",
       "      <td>598</td>\n",
       "      <td>9</td>\n",
       "      <td>1</td>\n",
       "    </tr>\n",
       "    <tr>\n",
       "      <th>1</th>\n",
       "      <td>41</td>\n",
       "      <td>Female</td>\n",
       "      <td>28</td>\n",
       "      <td>28</td>\n",
       "      <td>7</td>\n",
       "      <td>13</td>\n",
       "      <td>Standard</td>\n",
       "      <td>Monthly</td>\n",
       "      <td>584</td>\n",
       "      <td>20</td>\n",
       "      <td>0</td>\n",
       "    </tr>\n",
       "    <tr>\n",
       "      <th>2</th>\n",
       "      <td>47</td>\n",
       "      <td>Male</td>\n",
       "      <td>27</td>\n",
       "      <td>10</td>\n",
       "      <td>2</td>\n",
       "      <td>29</td>\n",
       "      <td>Premium</td>\n",
       "      <td>Annual</td>\n",
       "      <td>757</td>\n",
       "      <td>21</td>\n",
       "      <td>0</td>\n",
       "    </tr>\n",
       "    <tr>\n",
       "      <th>3</th>\n",
       "      <td>35</td>\n",
       "      <td>Male</td>\n",
       "      <td>9</td>\n",
       "      <td>12</td>\n",
       "      <td>5</td>\n",
       "      <td>17</td>\n",
       "      <td>Premium</td>\n",
       "      <td>Quarterly</td>\n",
       "      <td>232</td>\n",
       "      <td>18</td>\n",
       "      <td>0</td>\n",
       "    </tr>\n",
       "    <tr>\n",
       "      <th>4</th>\n",
       "      <td>53</td>\n",
       "      <td>Female</td>\n",
       "      <td>58</td>\n",
       "      <td>24</td>\n",
       "      <td>9</td>\n",
       "      <td>2</td>\n",
       "      <td>Standard</td>\n",
       "      <td>Annual</td>\n",
       "      <td>533</td>\n",
       "      <td>18</td>\n",
       "      <td>0</td>\n",
       "    </tr>\n",
       "  </tbody>\n",
       "</table>\n",
       "</div>"
      ],
      "text/plain": [
       "   Age  Gender  Tenure  Usage Frequency  Support Calls  Payment Delay  \\\n",
       "0   22  Female      25               14              4             27   \n",
       "1   41  Female      28               28              7             13   \n",
       "2   47    Male      27               10              2             29   \n",
       "3   35    Male       9               12              5             17   \n",
       "4   53  Female      58               24              9              2   \n",
       "\n",
       "  Subscription Type Contract Length  Total Spend  Last Interaction  Churn  \n",
       "0             Basic         Monthly          598                 9      1  \n",
       "1          Standard         Monthly          584                20      0  \n",
       "2           Premium          Annual          757                21      0  \n",
       "3           Premium       Quarterly          232                18      0  \n",
       "4          Standard          Annual          533                18      0  "
      ]
     },
     "execution_count": 2,
     "metadata": {},
     "output_type": "execute_result"
    }
   ],
   "source": [
    "churn_data = pd.read_csv('customer_churn_dataset.csv')\n",
    "churn_data.head()"
   ]
  },
  {
   "cell_type": "code",
   "execution_count": 3,
   "metadata": {},
   "outputs": [
    {
     "data": {
      "application/vnd.microsoft.datawrangler.viewer.v0+json": {
       "columns": [
        {
         "name": "index",
         "rawType": "object",
         "type": "string"
        },
        {
         "name": "count",
         "rawType": "float64",
         "type": "float"
        },
        {
         "name": "mean",
         "rawType": "float64",
         "type": "float"
        },
        {
         "name": "std",
         "rawType": "float64",
         "type": "float"
        },
        {
         "name": "min",
         "rawType": "float64",
         "type": "float"
        },
        {
         "name": "25%",
         "rawType": "float64",
         "type": "float"
        },
        {
         "name": "50%",
         "rawType": "float64",
         "type": "float"
        },
        {
         "name": "75%",
         "rawType": "float64",
         "type": "float"
        },
        {
         "name": "max",
         "rawType": "float64",
         "type": "float"
        }
       ],
       "conversionMethod": "pd.DataFrame",
       "ref": "820ca80b-8f21-4058-b877-dd3e4bb1088a",
       "rows": [
        [
         "Age",
         "64374.0",
         "41.97098207350794",
         "13.924911309026221",
         "18.0",
         "30.0",
         "42.0",
         "54.0",
         "65.0"
        ],
        [
         "Tenure",
         "64374.0",
         "31.994827104110357",
         "17.09823404343419",
         "1.0",
         "18.0",
         "33.0",
         "47.0",
         "60.0"
        ],
        [
         "Usage Frequency",
         "64374.0",
         "15.080234256066113",
         "8.816470068658408",
         "1.0",
         "7.0",
         "15.0",
         "23.0",
         "30.0"
        ],
        [
         "Support Calls",
         "64374.0",
         "5.400689719451953",
         "3.1140047039068817",
         "0.0",
         "3.0",
         "6.0",
         "8.0",
         "10.0"
        ],
        [
         "Payment Delay",
         "64374.0",
         "17.13395159536459",
         "8.8522110966599",
         "0.0",
         "10.0",
         "19.0",
         "25.0",
         "30.0"
        ],
        [
         "Total Spend",
         "64374.0",
         "541.0233790039457",
         "260.8748090082538",
         "100.0",
         "313.0",
         "534.0",
         "768.0",
         "1000.0"
        ],
        [
         "Last Interaction",
         "64374.0",
         "15.498850467580079",
         "8.638436266346382",
         "1.0",
         "8.0",
         "15.0",
         "23.0",
         "30.0"
        ],
        [
         "Churn",
         "64374.0",
         "0.47368502811694163",
         "0.499310920282173",
         "0.0",
         "0.0",
         "0.0",
         "1.0",
         "1.0"
        ]
       ],
       "shape": {
        "columns": 8,
        "rows": 8
       }
      },
      "text/html": [
       "<div>\n",
       "<style scoped>\n",
       "    .dataframe tbody tr th:only-of-type {\n",
       "        vertical-align: middle;\n",
       "    }\n",
       "\n",
       "    .dataframe tbody tr th {\n",
       "        vertical-align: top;\n",
       "    }\n",
       "\n",
       "    .dataframe thead th {\n",
       "        text-align: right;\n",
       "    }\n",
       "</style>\n",
       "<table border=\"1\" class=\"dataframe\">\n",
       "  <thead>\n",
       "    <tr style=\"text-align: right;\">\n",
       "      <th></th>\n",
       "      <th>count</th>\n",
       "      <th>mean</th>\n",
       "      <th>std</th>\n",
       "      <th>min</th>\n",
       "      <th>25%</th>\n",
       "      <th>50%</th>\n",
       "      <th>75%</th>\n",
       "      <th>max</th>\n",
       "    </tr>\n",
       "  </thead>\n",
       "  <tbody>\n",
       "    <tr>\n",
       "      <th>Age</th>\n",
       "      <td>64374.0</td>\n",
       "      <td>41.970982</td>\n",
       "      <td>13.924911</td>\n",
       "      <td>18.0</td>\n",
       "      <td>30.0</td>\n",
       "      <td>42.0</td>\n",
       "      <td>54.0</td>\n",
       "      <td>65.0</td>\n",
       "    </tr>\n",
       "    <tr>\n",
       "      <th>Tenure</th>\n",
       "      <td>64374.0</td>\n",
       "      <td>31.994827</td>\n",
       "      <td>17.098234</td>\n",
       "      <td>1.0</td>\n",
       "      <td>18.0</td>\n",
       "      <td>33.0</td>\n",
       "      <td>47.0</td>\n",
       "      <td>60.0</td>\n",
       "    </tr>\n",
       "    <tr>\n",
       "      <th>Usage Frequency</th>\n",
       "      <td>64374.0</td>\n",
       "      <td>15.080234</td>\n",
       "      <td>8.816470</td>\n",
       "      <td>1.0</td>\n",
       "      <td>7.0</td>\n",
       "      <td>15.0</td>\n",
       "      <td>23.0</td>\n",
       "      <td>30.0</td>\n",
       "    </tr>\n",
       "    <tr>\n",
       "      <th>Support Calls</th>\n",
       "      <td>64374.0</td>\n",
       "      <td>5.400690</td>\n",
       "      <td>3.114005</td>\n",
       "      <td>0.0</td>\n",
       "      <td>3.0</td>\n",
       "      <td>6.0</td>\n",
       "      <td>8.0</td>\n",
       "      <td>10.0</td>\n",
       "    </tr>\n",
       "    <tr>\n",
       "      <th>Payment Delay</th>\n",
       "      <td>64374.0</td>\n",
       "      <td>17.133952</td>\n",
       "      <td>8.852211</td>\n",
       "      <td>0.0</td>\n",
       "      <td>10.0</td>\n",
       "      <td>19.0</td>\n",
       "      <td>25.0</td>\n",
       "      <td>30.0</td>\n",
       "    </tr>\n",
       "    <tr>\n",
       "      <th>Total Spend</th>\n",
       "      <td>64374.0</td>\n",
       "      <td>541.023379</td>\n",
       "      <td>260.874809</td>\n",
       "      <td>100.0</td>\n",
       "      <td>313.0</td>\n",
       "      <td>534.0</td>\n",
       "      <td>768.0</td>\n",
       "      <td>1000.0</td>\n",
       "    </tr>\n",
       "    <tr>\n",
       "      <th>Last Interaction</th>\n",
       "      <td>64374.0</td>\n",
       "      <td>15.498850</td>\n",
       "      <td>8.638436</td>\n",
       "      <td>1.0</td>\n",
       "      <td>8.0</td>\n",
       "      <td>15.0</td>\n",
       "      <td>23.0</td>\n",
       "      <td>30.0</td>\n",
       "    </tr>\n",
       "    <tr>\n",
       "      <th>Churn</th>\n",
       "      <td>64374.0</td>\n",
       "      <td>0.473685</td>\n",
       "      <td>0.499311</td>\n",
       "      <td>0.0</td>\n",
       "      <td>0.0</td>\n",
       "      <td>0.0</td>\n",
       "      <td>1.0</td>\n",
       "      <td>1.0</td>\n",
       "    </tr>\n",
       "  </tbody>\n",
       "</table>\n",
       "</div>"
      ],
      "text/plain": [
       "                    count        mean         std    min    25%    50%    75%  \\\n",
       "Age               64374.0   41.970982   13.924911   18.0   30.0   42.0   54.0   \n",
       "Tenure            64374.0   31.994827   17.098234    1.0   18.0   33.0   47.0   \n",
       "Usage Frequency   64374.0   15.080234    8.816470    1.0    7.0   15.0   23.0   \n",
       "Support Calls     64374.0    5.400690    3.114005    0.0    3.0    6.0    8.0   \n",
       "Payment Delay     64374.0   17.133952    8.852211    0.0   10.0   19.0   25.0   \n",
       "Total Spend       64374.0  541.023379  260.874809  100.0  313.0  534.0  768.0   \n",
       "Last Interaction  64374.0   15.498850    8.638436    1.0    8.0   15.0   23.0   \n",
       "Churn             64374.0    0.473685    0.499311    0.0    0.0    0.0    1.0   \n",
       "\n",
       "                     max  \n",
       "Age                 65.0  \n",
       "Tenure              60.0  \n",
       "Usage Frequency     30.0  \n",
       "Support Calls       10.0  \n",
       "Payment Delay       30.0  \n",
       "Total Spend       1000.0  \n",
       "Last Interaction    30.0  \n",
       "Churn                1.0  "
      ]
     },
     "execution_count": 3,
     "metadata": {},
     "output_type": "execute_result"
    }
   ],
   "source": [
    "churn_data.describe().T"
   ]
  },
  {
   "cell_type": "code",
   "execution_count": 4,
   "metadata": {},
   "outputs": [
    {
     "data": {
      "text/plain": [
       "Age                   48\n",
       "Gender                 2\n",
       "Tenure                60\n",
       "Usage Frequency       30\n",
       "Support Calls         11\n",
       "Payment Delay         31\n",
       "Subscription Type      3\n",
       "Contract Length        3\n",
       "Total Spend          901\n",
       "Last Interaction      30\n",
       "Churn                  2\n",
       "dtype: int64"
      ]
     },
     "execution_count": 4,
     "metadata": {},
     "output_type": "execute_result"
    }
   ],
   "source": [
    "churn_data.nunique()"
   ]
  },
  {
   "cell_type": "code",
   "execution_count": 5,
   "metadata": {},
   "outputs": [
    {
     "data": {
      "text/plain": [
       "array([14, 28, 10, 12, 24, 15, 11,  5,  4, 27, 23,  7, 17,  3, 30,  2, 19,\n",
       "       20, 18,  8,  6, 21, 26, 16, 25, 13, 29,  9, 22,  1])"
      ]
     },
     "execution_count": 5,
     "metadata": {},
     "output_type": "execute_result"
    }
   ],
   "source": [
    "churn_data['Usage Frequency'].unique()"
   ]
  },
  {
   "cell_type": "code",
   "execution_count": 6,
   "metadata": {},
   "outputs": [],
   "source": [
    "n_data = churn_data.dropna()"
   ]
  },
  {
   "cell_type": "code",
   "execution_count": 7,
   "metadata": {},
   "outputs": [
    {
     "data": {
      "application/vnd.microsoft.datawrangler.viewer.v0+json": {
       "columns": [
        {
         "name": "index",
         "rawType": "object",
         "type": "string"
        },
        {
         "name": "count",
         "rawType": "float64",
         "type": "float"
        },
        {
         "name": "mean",
         "rawType": "float64",
         "type": "float"
        },
        {
         "name": "std",
         "rawType": "float64",
         "type": "float"
        },
        {
         "name": "min",
         "rawType": "float64",
         "type": "float"
        },
        {
         "name": "25%",
         "rawType": "float64",
         "type": "float"
        },
        {
         "name": "50%",
         "rawType": "float64",
         "type": "float"
        },
        {
         "name": "75%",
         "rawType": "float64",
         "type": "float"
        },
        {
         "name": "max",
         "rawType": "float64",
         "type": "float"
        }
       ],
       "conversionMethod": "pd.DataFrame",
       "ref": "d4ceb087-a2e1-4002-a7b1-f231bdcce26d",
       "rows": [
        [
         "Age",
         "64374.0",
         "41.97098207350794",
         "13.924911309026221",
         "18.0",
         "30.0",
         "42.0",
         "54.0",
         "65.0"
        ],
        [
         "Tenure",
         "64374.0",
         "31.994827104110357",
         "17.09823404343419",
         "1.0",
         "18.0",
         "33.0",
         "47.0",
         "60.0"
        ],
        [
         "Usage Frequency",
         "64374.0",
         "15.080234256066113",
         "8.816470068658408",
         "1.0",
         "7.0",
         "15.0",
         "23.0",
         "30.0"
        ],
        [
         "Support Calls",
         "64374.0",
         "5.400689719451953",
         "3.1140047039068817",
         "0.0",
         "3.0",
         "6.0",
         "8.0",
         "10.0"
        ],
        [
         "Payment Delay",
         "64374.0",
         "17.13395159536459",
         "8.8522110966599",
         "0.0",
         "10.0",
         "19.0",
         "25.0",
         "30.0"
        ],
        [
         "Total Spend",
         "64374.0",
         "541.0233790039457",
         "260.8748090082538",
         "100.0",
         "313.0",
         "534.0",
         "768.0",
         "1000.0"
        ],
        [
         "Last Interaction",
         "64374.0",
         "15.498850467580079",
         "8.638436266346382",
         "1.0",
         "8.0",
         "15.0",
         "23.0",
         "30.0"
        ],
        [
         "Churn",
         "64374.0",
         "0.47368502811694163",
         "0.499310920282173",
         "0.0",
         "0.0",
         "0.0",
         "1.0",
         "1.0"
        ]
       ],
       "shape": {
        "columns": 8,
        "rows": 8
       }
      },
      "text/html": [
       "<div>\n",
       "<style scoped>\n",
       "    .dataframe tbody tr th:only-of-type {\n",
       "        vertical-align: middle;\n",
       "    }\n",
       "\n",
       "    .dataframe tbody tr th {\n",
       "        vertical-align: top;\n",
       "    }\n",
       "\n",
       "    .dataframe thead th {\n",
       "        text-align: right;\n",
       "    }\n",
       "</style>\n",
       "<table border=\"1\" class=\"dataframe\">\n",
       "  <thead>\n",
       "    <tr style=\"text-align: right;\">\n",
       "      <th></th>\n",
       "      <th>count</th>\n",
       "      <th>mean</th>\n",
       "      <th>std</th>\n",
       "      <th>min</th>\n",
       "      <th>25%</th>\n",
       "      <th>50%</th>\n",
       "      <th>75%</th>\n",
       "      <th>max</th>\n",
       "    </tr>\n",
       "  </thead>\n",
       "  <tbody>\n",
       "    <tr>\n",
       "      <th>Age</th>\n",
       "      <td>64374.0</td>\n",
       "      <td>41.970982</td>\n",
       "      <td>13.924911</td>\n",
       "      <td>18.0</td>\n",
       "      <td>30.0</td>\n",
       "      <td>42.0</td>\n",
       "      <td>54.0</td>\n",
       "      <td>65.0</td>\n",
       "    </tr>\n",
       "    <tr>\n",
       "      <th>Tenure</th>\n",
       "      <td>64374.0</td>\n",
       "      <td>31.994827</td>\n",
       "      <td>17.098234</td>\n",
       "      <td>1.0</td>\n",
       "      <td>18.0</td>\n",
       "      <td>33.0</td>\n",
       "      <td>47.0</td>\n",
       "      <td>60.0</td>\n",
       "    </tr>\n",
       "    <tr>\n",
       "      <th>Usage Frequency</th>\n",
       "      <td>64374.0</td>\n",
       "      <td>15.080234</td>\n",
       "      <td>8.816470</td>\n",
       "      <td>1.0</td>\n",
       "      <td>7.0</td>\n",
       "      <td>15.0</td>\n",
       "      <td>23.0</td>\n",
       "      <td>30.0</td>\n",
       "    </tr>\n",
       "    <tr>\n",
       "      <th>Support Calls</th>\n",
       "      <td>64374.0</td>\n",
       "      <td>5.400690</td>\n",
       "      <td>3.114005</td>\n",
       "      <td>0.0</td>\n",
       "      <td>3.0</td>\n",
       "      <td>6.0</td>\n",
       "      <td>8.0</td>\n",
       "      <td>10.0</td>\n",
       "    </tr>\n",
       "    <tr>\n",
       "      <th>Payment Delay</th>\n",
       "      <td>64374.0</td>\n",
       "      <td>17.133952</td>\n",
       "      <td>8.852211</td>\n",
       "      <td>0.0</td>\n",
       "      <td>10.0</td>\n",
       "      <td>19.0</td>\n",
       "      <td>25.0</td>\n",
       "      <td>30.0</td>\n",
       "    </tr>\n",
       "    <tr>\n",
       "      <th>Total Spend</th>\n",
       "      <td>64374.0</td>\n",
       "      <td>541.023379</td>\n",
       "      <td>260.874809</td>\n",
       "      <td>100.0</td>\n",
       "      <td>313.0</td>\n",
       "      <td>534.0</td>\n",
       "      <td>768.0</td>\n",
       "      <td>1000.0</td>\n",
       "    </tr>\n",
       "    <tr>\n",
       "      <th>Last Interaction</th>\n",
       "      <td>64374.0</td>\n",
       "      <td>15.498850</td>\n",
       "      <td>8.638436</td>\n",
       "      <td>1.0</td>\n",
       "      <td>8.0</td>\n",
       "      <td>15.0</td>\n",
       "      <td>23.0</td>\n",
       "      <td>30.0</td>\n",
       "    </tr>\n",
       "    <tr>\n",
       "      <th>Churn</th>\n",
       "      <td>64374.0</td>\n",
       "      <td>0.473685</td>\n",
       "      <td>0.499311</td>\n",
       "      <td>0.0</td>\n",
       "      <td>0.0</td>\n",
       "      <td>0.0</td>\n",
       "      <td>1.0</td>\n",
       "      <td>1.0</td>\n",
       "    </tr>\n",
       "  </tbody>\n",
       "</table>\n",
       "</div>"
      ],
      "text/plain": [
       "                    count        mean         std    min    25%    50%    75%  \\\n",
       "Age               64374.0   41.970982   13.924911   18.0   30.0   42.0   54.0   \n",
       "Tenure            64374.0   31.994827   17.098234    1.0   18.0   33.0   47.0   \n",
       "Usage Frequency   64374.0   15.080234    8.816470    1.0    7.0   15.0   23.0   \n",
       "Support Calls     64374.0    5.400690    3.114005    0.0    3.0    6.0    8.0   \n",
       "Payment Delay     64374.0   17.133952    8.852211    0.0   10.0   19.0   25.0   \n",
       "Total Spend       64374.0  541.023379  260.874809  100.0  313.0  534.0  768.0   \n",
       "Last Interaction  64374.0   15.498850    8.638436    1.0    8.0   15.0   23.0   \n",
       "Churn             64374.0    0.473685    0.499311    0.0    0.0    0.0    1.0   \n",
       "\n",
       "                     max  \n",
       "Age                 65.0  \n",
       "Tenure              60.0  \n",
       "Usage Frequency     30.0  \n",
       "Support Calls       10.0  \n",
       "Payment Delay       30.0  \n",
       "Total Spend       1000.0  \n",
       "Last Interaction    30.0  \n",
       "Churn                1.0  "
      ]
     },
     "execution_count": 7,
     "metadata": {},
     "output_type": "execute_result"
    }
   ],
   "source": [
    "n_data.describe().T"
   ]
  },
  {
   "cell_type": "markdown",
   "metadata": {},
   "source": [
    "### Data Visualization"
   ]
  },
  {
   "cell_type": "code",
   "execution_count": 8,
   "metadata": {},
   "outputs": [
    {
     "data": {
      "image/png": "[encoded data removed]",
      "text/plain": [
       "<Figure size 800x480 with 1 Axes>"
      ]
     },
     "metadata": {},
     "output_type": "display_data"
    }
   ],
   "source": [
    "data = n_data[['Churn', 'Gender']]\n",
    "grouped_data = data.groupby(['Churn', 'Gender']).size().reset_index(name='Counts')\n",
    "\n",
    "fig, ax = plt.subplots(figsize=(10, 6), dpi=80)\n",
    "grouped_data['Churn'] = grouped_data['Churn'].replace({0: 'O', 1: '1'})\n",
    "grouped_data['Gender'] = grouped_data['Gender'].replace({0: 'Male', 1: 'Female'})\n",
    "\n",
    "sns.barplot(x='Churn', y='Counts', hue='Gender', data=grouped_data, palette=['#3F7D58', '#EF9651'])\n",
    "ax.set_title('Churn and Gender')\n",
    "ax.set_ylabel('Numbers', size=12)\n",
    "ax.set_xlabel('Customer Churn', size=12)\n",
    "plt.show()\n"
   ]
  },
  {
   "cell_type": "code",
   "execution_count": 9,
   "metadata": {},
   "outputs": [
    {
     "data": {
      "image/png": "[encoded data removed]",
      "text/plain": [
       "<Figure size 800x480 with 1 Axes>"
      ]
     },
     "metadata": {},
     "output_type": "display_data"
    }
   ],
   "source": [
    "data = n_data[['Churn', 'Subscription Type']]\n",
    "grouped_data = data.groupby(['Churn', 'Subscription Type']).size().reset_index(name='Counts')\n",
    "\n",
    "fig, ax = plt.subplots(figsize=(10, 6), dpi=80)\n",
    "grouped_data['Churn'] = grouped_data['Churn'].replace({0: 'O', 1: '1'})\n",
    "grouped_data['Subscription Type'] = grouped_data['Subscription Type'].replace({0: 'Basic', 1: 'Standard', 2: 'Premium'})\n",
    "\n",
    "sns.barplot(x='Churn', y='Counts', hue='Subscription Type', data=grouped_data, palette=['#3F7D58', '#EF9651', '#EC5228'])\n",
    "ax.set_title('Churn and Subscription Type')\n",
    "ax.set_ylabel('Numbers', size=12)\n",
    "ax.set_xlabel('Customer Churn', size=12)\n",
    "plt.show()\n"
   ]
  },
  {
   "cell_type": "code",
   "execution_count": 10,
   "metadata": {},
   "outputs": [
    {
     "data": {
      "image/png": "[encoded data removed]",
      "text/plain": [
       "<Figure size 800x480 with 1 Axes>"
      ]
     },
     "metadata": {},
     "output_type": "display_data"
    }
   ],
   "source": [
    "data = n_data[['Churn', 'Contract Length']]\n",
    "grouped_data = data.groupby(['Churn', 'Contract Length']).size().reset_index(name='Counts')\n",
    "\n",
    "fig, ax = plt.subplots(figsize=(10, 6), dpi=80)\n",
    "grouped_data['Churn'] = grouped_data['Churn'].replace({0: 'O', 1: '1'})\n",
    "grouped_data['Contract Length'] = grouped_data['Contract Length'].replace({0: 'Monthly', 1: 'Annual', 2: 'Quarterly'})\n",
    "\n",
    "sns.barplot(x='Churn', y='Counts', hue='Contract Length', data=grouped_data, palette=['#3F7D58', '#EF9651', '#EC5228'])\n",
    "ax.set_title('Churn and Contract Length')\n",
    "ax.set_ylabel('Numbers', size=12)\n",
    "ax.set_xlabel('Customer Churn', size=12)\n",
    "plt.show()"
   ]
  },
  {
   "cell_type": "markdown",
   "metadata": {},
   "source": [
    "### Separate input and output features"
   ]
  },
  {
   "cell_type": "code",
   "execution_count": 11,
   "metadata": {},
   "outputs": [],
   "source": [
    "x = churn_data.drop(columns=['Churn'])\n",
    "y = churn_data['Churn']"
   ]
  },
  {
   "cell_type": "markdown",
   "metadata": {},
   "source": [
    "### Encoding"
   ]
  },
  {
   "cell_type": "code",
   "execution_count": 12,
   "metadata": {},
   "outputs": [],
   "source": [
    "categorical_features = ['Gender', 'Subscription Type', 'Contract Length']\n",
    "encoder = BinaryEncoder()\n",
    "x_encoded = encoder.fit_transform(x[categorical_features])\n",
    "x = x.drop(categorical_features, axis=1)\n",
    "x = x.reset_index(drop=True)\n",
    "x_encoded = x_encoded.reset_index(drop=True)\n",
    "x = pd.concat([x, x_encoded], axis=1)"
   ]
  },
  {
   "cell_type": "code",
   "execution_count": 13,
   "metadata": {},
   "outputs": [],
   "source": [
    "imputer = SimpleImputer(strategy='mean')\n",
    "x_imputed = pd.DataFrame(imputer.fit_transform(x), columns=x.columns)\n",
    "\n",
    "# Apply SMOTE\n",
    "smote = SMOTE()\n",
    "x, y = smote.fit_resample(x_imputed, y)"
   ]
  },
  {
   "cell_type": "code",
   "execution_count": 14,
   "metadata": {},
   "outputs": [
    {
     "data": {
      "text/plain": [
       "Churn\n",
       "1    33881\n",
       "0    33881\n",
       "Name: count, dtype: int64"
      ]
     },
     "execution_count": 14,
     "metadata": {},
     "output_type": "execute_result"
    }
   ],
   "source": [
    "y.value_counts()"
   ]
  },
  {
   "cell_type": "code",
   "execution_count": 15,
   "metadata": {},
   "outputs": [],
   "source": [
    "x_train, x_test, y_train, y_test = train_test_split(x, y, test_size= .25, random_state=42)"
   ]
  },
  {
   "cell_type": "code",
   "execution_count": 16,
   "metadata": {},
   "outputs": [
    {
     "data": {
      "text/plain": [
       "['churn_prediction_model.joblib']"
      ]
     },
     "execution_count": 16,
     "metadata": {},
     "output_type": "execute_result"
    }
   ],
   "source": [
    "dcs = DecisionTreeClassifier()\n",
    "dcs.fit(x_train, y_train)\n",
    "export_graphviz(dcs, out_file='tree.dot', filled=True, feature_names=x_train.columns)\n",
    "\n",
    "with open(\"tree.dot\") as f:\n",
    "    dot_graph = f.read()\n",
    "graphviz.Source(dot_graph) \n",
    "\n",
    "# save model\n",
    "dump(dcs, \"churn_prediction_model.joblib\")"
   ]
  },
  {
   "cell_type": "code",
   "execution_count": 17,
   "metadata": {},
   "outputs": [
    {
     "name": "stdout",
     "output_type": "stream",
     "text": [
      "Accuracy: 99.85833185762351\n",
      "Precision: 99.90564925109094\n"
     ]
    }
   ],
   "source": [
    "dcs_prediction = dcs.predict(x_test)\n",
    "dcs_accuracy = accuracy_score(dcs_prediction, y_test)\n",
    "dcs_precision = precision_score(dcs_prediction, y_test)\n",
    "\n",
    "print(f\"Accuracy: {dcs_accuracy*100}\")\n",
    "print(f\"Precision: {dcs_precision*100}\")"
   ]
  },
  {
   "cell_type": "code",
   "execution_count": 18,
   "metadata": {},
   "outputs": [],
   "source": [
    "loaded_model = load(\"churn_prediction_model.joblib\")\n",
    "loaded_prediction = loaded_model.predict(x_test)"
   ]
  }
 ],
 "metadata": {
  "kernelspec": {
   "display_name": "torres",
   "language": "python",
   "name": "python3"
  },
  "language_info": {
   "codemirror_mode": {
    "name": "ipython",
    "version": 3
   },
   "file_extension": ".py",
   "mimetype": "text/x-python",
   "name": "python",
   "nbconvert_exporter": "python",
   "pygments_lexer": "ipython3",
   "version": "3.10.12"
  }
 },
 "nbformat": 4,
 "nbformat_minor": 2
}
